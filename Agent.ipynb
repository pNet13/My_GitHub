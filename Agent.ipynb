{
  "nbformat": 4,
  "nbformat_minor": 0,
  "metadata": {
    "colab": {
      "provenance": [],
      "authorship_tag": "ABX9TyP8UeY47pHcbbZxbNSw/A0w",
      "include_colab_link": true
    },
    "kernelspec": {
      "name": "python3",
      "display_name": "Python 3"
    },
    "language_info": {
      "name": "python"
    }
  },
  "cells": [
    {
      "cell_type": "markdown",
      "metadata": {
        "id": "view-in-github",
        "colab_type": "text"
      },
      "source": [
        "<a href=\"https://colab.research.google.com/github/pNet13/My_GitHub/blob/main/Agent.ipynb\" target=\"_parent\"><img src=\"https://colab.research.google.com/assets/colab-badge.svg\" alt=\"Open In Colab\"/></a>"
      ]
    },
    {
      "cell_type": "code",
      "source": [
        "import os\n",
        "from crewai import Agent, Task, Crew, Process\n",
        "from crewai_tools import SerperDevTool"
      ],
      "metadata": {
        "colab": {
          "base_uri": "https://localhost:8080/"
        },
        "outputId": "df18ca4c-fc81-4870-a896-34bd0112b799",
        "id": "a4J0L9CMRhtt"
      },
      "execution_count": null,
      "outputs": [
        {
          "output_type": "stream",
          "name": "stderr",
          "text": [
            "/usr/local/lib/python3.10/dist-packages/pydantic/_internal/_config.py:341: UserWarning: Valid config keys have changed in V2:\n",
            "* 'allow_population_by_field_name' has been renamed to 'populate_by_name'\n",
            "* 'smart_union' has been removed\n",
            "  warnings.warn(message, UserWarning)\n"
          ]
        }
      ]
    },
    {
      "cell_type": "code",
      "execution_count": null,
      "metadata": {
        "colab": {
          "base_uri": "https://localhost:8080/"
        },
        "id": "5zK_wcwa-kKO",
        "outputId": "405732d8-8f7f-413f-bb4d-1e15dff08771"
      },
      "outputs": [
        {
          "output_type": "stream",
          "name": "stdout",
          "text": [
            "Hello, I am a top Wall-Street Agent at your service.\n"
          ]
        }
      ],
      "source": [
        "# Wall-Street Agent to perform Stock Analysis\n",
        "print('Hello, I am a top Wall-Street Agent at your service.')"
      ]
    },
    {
      "cell_type": "code",
      "source": [
        "# Installing Crew AI (Crew AI is used for Agents)\n",
        "!pip install -q crewai"
      ],
      "metadata": {
        "collapsed": true,
        "id": "zXgaHpI7-okK"
      },
      "execution_count": null,
      "outputs": []
    },
    {
      "cell_type": "code",
      "source": [
        "# Installing the CrewAI Tools for Agents\n",
        "!pip install -q 'crewai[tools]'"
      ],
      "metadata": {
        "id": "uZC_2mii-3Qk",
        "collapsed": true
      },
      "execution_count": null,
      "outputs": []
    },
    {
      "cell_type": "code",
      "source": [
        "# Checking Pythong Environment\n",
        "!pip install python-dotenv"
      ],
      "metadata": {
        "colab": {
          "base_uri": "https://localhost:8080/"
        },
        "id": "IzUut1J5_Y7M",
        "outputId": "81137463-6bd3-4e17-eb6d-f22f3c15fc40",
        "collapsed": true
      },
      "execution_count": null,
      "outputs": [
        {
          "output_type": "stream",
          "name": "stdout",
          "text": [
            "Requirement already satisfied: python-dotenv in /usr/local/lib/python3.10/dist-packages (1.0.1)\n"
          ]
        }
      ]
    },
    {
      "cell_type": "code",
      "source": [
        "# Loading the API-KEYS files to ensure privacy\n",
        "%load_ext dotenv\n",
        "%dotenv"
      ],
      "metadata": {
        "id": "l_U7SESt_iQ7",
        "colab": {
          "base_uri": "https://localhost:8080/"
        },
        "outputId": "945fda61-cce1-4994-cd85-25aa160e1ea4"
      },
      "execution_count": null,
      "outputs": [
        {
          "output_type": "stream",
          "name": "stdout",
          "text": [
            "The dotenv extension is already loaded. To reload it, use:\n",
            "  %reload_ext dotenv\n"
          ]
        }
      ]
    },
    {
      "cell_type": "code",
      "source": [
        "# Importing necessary Modules for CrewAI and Web-Searching\n",
        "import os\n",
        "from crewai import Agent, Task, Crew, Process\n",
        "from crewai_tools import SerperDevTool"
      ],
      "metadata": {
        "id": "2CzOGmZDJOWa"
      },
      "execution_count": null,
      "outputs": []
    },
    {
      "cell_type": "code",
      "source": [
        "# Intialize the SerperDevTool for Web-Searching\n",
        "search_tool = SerperDevTool()"
      ],
      "metadata": {
        "id": "vmgAfOccJfcV"
      },
      "execution_count": null,
      "outputs": []
    },
    {
      "cell_type": "code",
      "source": [
        "# Importing the ChatOpenAI class for interacting with OpenAI's chat models\n",
        "from langchain_openai import ChatOpenAI"
      ],
      "metadata": {
        "id": "1LzMt7e9Jtze"
      },
      "execution_count": null,
      "outputs": []
    },
    {
      "cell_type": "code",
      "source": [
        "# Definining and Creating an Agent { Roles and Goals}\n",
        "# This is a reseacher Agent who will do research for you.\n",
        "researcher = Agent (\n",
        "    role = \"Wall-Street Analyst\",\n",
        "    goal = \"Look up the stocks and cryptos with highest potential for next couple of months\",\n",
        "    backstory = \"\"\"\" You work as a top wall-street stocks and crypto analyst. You are tasked with looking up the stocks and crypto with highest potential for next couple of months that will generate the highest returns. \"\"\",\n",
        "    verbose = True,\n",
        "    allow_delegation = False,\n",
        "    tools = [search_tool],\n",
        "    llm = ChatOpenAI(model_name=\"gpt-3.5-turbo\", temperature=.5)\n",
        ")\n"
      ],
      "metadata": {
        "id": "MyaffgPPJ2df"
      },
      "execution_count": null,
      "outputs": []
    },
    {
      "cell_type": "code",
      "source": [
        "# Writer Agent\n",
        "# This is a writer agent who will compile the the research into a report\n",
        "\n",
        "writer = Agent (\n",
        "    role = 'Stocks and Crypto Analyst',\n",
        "    goal = 'Craft a comprehensive report on the stocks and crypto with highest potential for next couple of months',\n",
        "    backstory = \"\"\" You work as a top wall-street stocks and crypto analyst. You are tasked with looking up the stocks and crypto with highest potential for next couple of months that will generate the highest returns. \"\"\",\n",
        "    verbose = True,\n",
        "    allow_delegation = True,\n",
        "    llm = ChatOpenAI(model_name=\"gpt-3.5-turbo\", temperature=.7)\n",
        "\n",
        ")"
      ],
      "metadata": {
        "id": "Pk6CmSWsLgN8"
      },
      "execution_count": null,
      "outputs": []
    },
    {
      "cell_type": "code",
      "source": [
        "# Creating a task to assign to Research agent\n",
        "task1 = Task (\n",
        "    description = \"Look up the stocks and cryptos with highest potential for next couple of months based on article published today\",\n",
        "    expected_output = \"List of stocks and cryptos with highest potential for next couple of months\",\n",
        "    agent = researcher\n",
        ")"
      ],
      "metadata": {
        "id": "T4ZmV6eaMUEi"
      },
      "execution_count": null,
      "outputs": []
    },
    {
      "cell_type": "code",
      "source": [
        "# Creating a task to assign to Writer agent\n",
        "task2 = Task (\n",
        "    description = \"Craft a comprehensive report on the stocks and crypto with highest potential for next couple of months based of article published today\",\n",
        "    expected_output = \"A comprehensive report on the stocks and crypto with highest potential for next couple of months\",\n",
        "    agent = writer\n",
        ")"
      ],
      "metadata": {
        "id": "O_7qBcTjMpyF"
      },
      "execution_count": null,
      "outputs": []
    },
    {
      "cell_type": "code",
      "source": [
        "# Create a crew for stocks and cryto analysis\n",
        "crew = Crew (\n",
        "    name = \"Stocks and Crypto Analyst\",\n",
        "    agents = [researcher, writer],\n",
        "    tasks=[task1, task2],\n",
        "    verbose=1,\n",
        "\n",
        ")\n"
      ],
      "metadata": {
        "id": "-IBf4XKhMxnO"
      },
      "execution_count": null,
      "outputs": []
    },
    {
      "cell_type": "code",
      "source": [
        "# Start teh Crew workflow ('Get Agents to work') and Prent the result.\n",
        "result = crew.kickoff()\n",
        "print(\"---------------------------------------------------------------------------------------------------------------\")\n",
        "print(result)"
      ],
      "metadata": {
        "colab": {
          "base_uri": "https://localhost:8080/"
        },
        "id": "LvkLLNYtNAQl",
        "outputId": "5d96c82b-55a7-4aee-8883-046cc3dc59c6"
      },
      "execution_count": null,
      "outputs": [
        {
          "output_type": "stream",
          "name": "stdout",
          "text": [
            "\u001b[1m\u001b[95m [2024-08-18 16:22:28][DEBUG]: == Working Agent: Wall-Street Analyst\u001b[00m\n",
            "\u001b[1m\u001b[95m [2024-08-18 16:22:28][INFO]: == Starting Task: Look up the stocks and cryptos with highest potential for next couple of months based on article published today\u001b[00m\n",
            "\n",
            "\n",
            "\u001b[1m> Entering new CrewAgentExecutor chain...\u001b[0m\n",
            "\u001b[32;1m\u001b[1;3m\u001b[0m\n",
            "\n",
            "\u001b[1m> Finished chain.\u001b[0m\n",
            "\u001b[1m\u001b[92m [2024-08-18 16:23:43][DEBUG]: == [Wall-Street Analyst] Task output: Agent stopped due to iteration limit or time limit.\n",
            "\n",
            "\u001b[00m\n",
            "\u001b[1m\u001b[95m [2024-08-18 16:23:43][DEBUG]: == Working Agent: Stocks and Crypto Analyst\u001b[00m\n",
            "\u001b[1m\u001b[95m [2024-08-18 16:23:43][INFO]: == Starting Task: Craft a comprehensive report on the stocks and crypto with highest potential for next couple of months based of article published today\u001b[00m\n",
            "\n",
            "\n",
            "\u001b[1m> Entering new CrewAgentExecutor chain...\u001b[0m\n",
            "\u001b[32;1m\u001b[1;3m\u001b[0m\n",
            "\n",
            "\u001b[1m> Finished chain.\u001b[0m\n",
            "\u001b[1m\u001b[92m [2024-08-18 16:24:59][DEBUG]: == [Stocks and Crypto Analyst] Task output: Agent stopped due to iteration limit or time limit.\n",
            "\n",
            "\u001b[00m\n",
            "---------------------------------------------------------------------------------------------------------------\n",
            "Agent stopped due to iteration limit or time limit.\n"
          ]
        }
      ]
    },
    {
      "cell_type": "code",
      "source": [],
      "metadata": {
        "id": "bxpC_IW9TCP4"
      },
      "execution_count": null,
      "outputs": []
    }
  ]
}